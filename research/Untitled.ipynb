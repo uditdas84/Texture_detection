{
 "cells": [
  {
   "cell_type": "code",
   "execution_count": 2,
   "id": "c7d4c763",
   "metadata": {},
   "outputs": [],
   "source": [
    "import numpy as np\n",
    "import cv2 \n",
    "import matplotlib.pyplot as plt \n",
    "import pandas as pd \n",
    "%matplotlib inline"
   ]
  },
  {
   "cell_type": "code",
   "execution_count": 11,
   "id": "b65d306b",
   "metadata": {},
   "outputs": [],
   "source": [
    "# Gabor filter\n",
    "ksize= 10\n",
    "sigma= 3 \n",
    "theta= 1*np.pi/2 \n",
    "lamda= 1*np.pi/4 \n",
    "gamma = 0.4 \n",
    "phi=0\n",
    "kernel = cv2.getGaborKernel((ksize,ksize),sigma,theta,lamda,gamma,phi,ktype=cv2.CV_32F)"
   ]
  },
  {
   "cell_type": "code",
   "execution_count": 12,
   "id": "79b5a31d",
   "metadata": {},
   "outputs": [],
   "source": [
    "fimg= cv2.filter2D(img,cv2.CV_8UC3,kernel)"
   ]
  },
  {
   "cell_type": "code",
   "execution_count": 15,
   "id": "f7891a05",
   "metadata": {},
   "outputs": [],
   "source": [
    "img = cv2.imread('1.png')\n",
    "img = cv2.cvtColor(img, cv2.COLOR_BGR2GRAY)\n",
    "cv2.imshow('grey_img',img)\n",
    "cv2.imshow('filtered_img',fimg)\n",
    "cv2.waitKey(0)\n",
    "cv2.destroyAllWindows()"
   ]
  },
  {
   "cell_type": "code",
   "execution_count": 8,
   "id": "730065c8",
   "metadata": {},
   "outputs": [],
   "source": []
  },
  {
   "cell_type": "code",
   "execution_count": null,
   "id": "e00ad19e",
   "metadata": {},
   "outputs": [],
   "source": []
  }
 ],
 "metadata": {
  "kernelspec": {
   "display_name": "Python 3 (ipykernel)",
   "language": "python",
   "name": "python3"
  },
  "language_info": {
   "codemirror_mode": {
    "name": "ipython",
    "version": 3
   },
   "file_extension": ".py",
   "mimetype": "text/x-python",
   "name": "python",
   "nbconvert_exporter": "python",
   "pygments_lexer": "ipython3",
   "version": "3.11.4"
  }
 },
 "nbformat": 4,
 "nbformat_minor": 5
}
